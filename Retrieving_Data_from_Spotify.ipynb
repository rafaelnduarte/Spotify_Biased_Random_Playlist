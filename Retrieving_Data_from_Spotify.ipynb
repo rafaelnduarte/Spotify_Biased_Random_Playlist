{
  "nbformat": 4,
  "nbformat_minor": 0,
  "metadata": {
    "colab": {
      "name": "Retrieving Data from Spotify",
      "provenance": [],
      "collapsed_sections": [],
      "include_colab_link": true
    },
    "kernelspec": {
      "name": "python3",
      "display_name": "Python 3"
    }
  },
  "cells": [
    {
      "cell_type": "markdown",
      "metadata": {
        "id": "view-in-github",
        "colab_type": "text"
      },
      "source": [
        "<a href=\"https://colab.research.google.com/github/rafaelnduarte/Spotify_Mood_Playlist/blob/master/Retrieving_Data_from_Spotify.ipynb\" target=\"_parent\"><img src=\"https://colab.research.google.com/assets/colab-badge.svg\" alt=\"Open In Colab\"/></a>"
      ]
    },
    {
      "cell_type": "code",
      "metadata": {
        "id": "KrMqXbjZ2I4d",
        "colab_type": "code",
        "colab": {}
      },
      "source": [
        "# installing spotipy\n",
        "pip install spotipy -q"
      ],
      "execution_count": 0,
      "outputs": []
    },
    {
      "cell_type": "code",
      "metadata": {
        "id": "pk648-iktP05",
        "colab_type": "code",
        "colab": {}
      },
      "source": [
        "# importing the necessary packages\n",
        "import spotipy \n",
        "sp = spotipy.Spotify() \n",
        "from spotipy.oauth2 import SpotifyClientCredentials \n",
        "import spotipy.util as util\n",
        "import sys"
      ],
      "execution_count": 0,
      "outputs": []
    },
    {
      "cell_type": "code",
      "metadata": {
        "id": "27wMLeUVs6J3",
        "colab_type": "code",
        "colab": {}
      },
      "source": [
        "# setting up authorization\n",
        "cid =\"867a4d8d1a004f8fa5ebb0e961d34660\" \n",
        "secret = \"9467590b680f492cafe47a755a939504\"\n",
        "\n",
        "username = '22fmcdjlhywkas2zn6gk3y4iy'\n",
        "scope = 'user-library-read'\n",
        "authorization_url = 'https://accounts.spotify.com/authorize'\n",
        "token_url = 'https://accounts.spotify.com/api/token'\n",
        "client_id_rnd ='867a4d8d1a004f8fa5ebb0e961d34660'\n",
        "client_secret_rnd ='9467590b680f492cafe47a755a939504'\n",
        "redirect_uri_rnd ='https://localhost.com/callback/'\n",
        "\n",
        "token = util.prompt_for_user_token(username,scope,client_id='867a4d8d1a004f8fa5ebb0e961d34660',client_secret='9467590b680f492cafe47a755a939504',redirect_uri='https://localhost.com/callback/')\n",
        "client_credentials_manager = SpotifyClientCredentials(client_id=cid, client_secret=secret)\n",
        "sp = spotipy.Spotify(client_credentials_manager=client_credentials_manager)"
      ],
      "execution_count": 0,
      "outputs": []
    },
    {
      "cell_type": "code",
      "metadata": {
        "id": "h9bmIMAD1f11",
        "colab_type": "code",
        "colab": {
          "base_uri": "https://localhost:8080/",
          "height": 50
        },
        "outputId": "50cff982-0a0b-4377-e35e-9f7ccee9fb79"
      },
      "source": [
        "# token\n",
        "auth = SpotifyClientCredentials(\n",
        "    client_id=client_id_rnd,\n",
        "    client_secret=client_secret_rnd\n",
        ")\n",
        "\n",
        "token = auth.get_access_token()\n",
        "spotify = spotipy.Spotify(auth=token)\n",
        "print(token)\n",
        "print(spotify)\n",
        "token = 'BQAuGvoMD37Cy_6jZnXuDlY-ucZ5b8xc5ZuikDpAxmw8v8UaHxid2IavuQW1fMoYynZr4jp-0nBncgYhT9D9HVPRCy1TjuoXZotX8K_u0sYZB2bbaZ-WfvCVOzok_Vw3NADlWQZmSyQURkrfd4woW58r6ua7rwITpKkjnS9RIjvPaMW_ug23Oz1EXMbMVGbjFx8'"
      ],
      "execution_count": 67,
      "outputs": [
        {
          "output_type": "stream",
          "text": [
            "BQBon5Cg6dpAj8nE2gm-SyOT4wNr00cnsC20JoFdTiyCrgusMH_0-yCrG7fbugFRKfJlcf1Un_ajc574bpA\n",
            "<spotipy.client.Spotify object at 0x7faa2ec9fcc0>\n"
          ],
          "name": "stdout"
        }
      ]
    },
    {
      "cell_type": "code",
      "metadata": {
        "id": "zI_yPGEItOYD",
        "colab_type": "code",
        "colab": {
          "base_uri": "https://localhost:8080/",
          "height": 33
        },
        "outputId": "32df8ee7-74ab-4532-f9b5-9e0b30db3d93"
      },
      "source": [
        "# timeit library to measure the time needed to run this code\n",
        "import timeit\n",
        "start = timeit.default_timer()\n",
        "\n",
        "# create empty lists where the results are going to be stored\n",
        "artist_name = []\n",
        "track_name = []\n",
        "popularity = []\n",
        "track_id = []\n",
        "\n",
        "for i in range(0,10000,50):\n",
        "    track_results = sp.search(q='year:2019', type='track', limit=50,offset=i)\n",
        "    for i, t in enumerate(track_results['tracks']['items']):\n",
        "        artist_name.append(t['artists'][0]['name'])\n",
        "        track_name.append(t['name'])\n",
        "        track_id.append(t['id'])\n",
        "        popularity.append(t['popularity'])\n",
        "      \n",
        "\n",
        "stop = timeit.default_timer()\n",
        "print ('Time to run this code (in seconds):', stop - start)"
      ],
      "execution_count": 68,
      "outputs": [
        {
          "output_type": "stream",
          "text": [
            "Time to run this code (in seconds): 29.380561838001086\n"
          ],
          "name": "stdout"
        }
      ]
    },
    {
      "cell_type": "code",
      "metadata": {
        "id": "l_4C33oZtZ2d",
        "colab_type": "code",
        "colab": {
          "base_uri": "https://localhost:8080/",
          "height": 33
        },
        "outputId": "5c01540b-c00f-42dd-c45a-d23c531b3972"
      },
      "source": [
        "# checking the results\n",
        "print('number of elements in the track_id list:', len(track_id))"
      ],
      "execution_count": 69,
      "outputs": [
        {
          "output_type": "stream",
          "text": [
            "number of elements in the track_id list: 10000\n"
          ],
          "name": "stdout"
        }
      ]
    },
    {
      "cell_type": "code",
      "metadata": {
        "id": "NkYAtcD7tngL",
        "colab_type": "code",
        "colab": {
          "base_uri": "https://localhost:8080/",
          "height": 214
        },
        "outputId": "d1cfe176-f2b1-4ac5-ea3d-0805c11c6f96"
      },
      "source": [
        "# putting the data in a dataframe\n",
        "import pandas as pd\n",
        "\n",
        "df_tracks = pd.DataFrame({'artist_name':artist_name,'track_name':track_name,'track_id':track_id,'popularity':popularity})\n",
        "print(df_tracks.shape)\n",
        "df_tracks.head()"
      ],
      "execution_count": 70,
      "outputs": [
        {
          "output_type": "stream",
          "text": [
            "(10000, 4)\n"
          ],
          "name": "stdout"
        },
        {
          "output_type": "execute_result",
          "data": {
            "text/html": [
              "<div>\n",
              "<style scoped>\n",
              "    .dataframe tbody tr th:only-of-type {\n",
              "        vertical-align: middle;\n",
              "    }\n",
              "\n",
              "    .dataframe tbody tr th {\n",
              "        vertical-align: top;\n",
              "    }\n",
              "\n",
              "    .dataframe thead th {\n",
              "        text-align: right;\n",
              "    }\n",
              "</style>\n",
              "<table border=\"1\" class=\"dataframe\">\n",
              "  <thead>\n",
              "    <tr style=\"text-align: right;\">\n",
              "      <th></th>\n",
              "      <th>artist_name</th>\n",
              "      <th>track_name</th>\n",
              "      <th>track_id</th>\n",
              "      <th>popularity</th>\n",
              "    </tr>\n",
              "  </thead>\n",
              "  <tbody>\n",
              "    <tr>\n",
              "      <th>0</th>\n",
              "      <td>Post Malone</td>\n",
              "      <td>Circles</td>\n",
              "      <td>21jGcNKet2qwijlDFuPiPb</td>\n",
              "      <td>99</td>\n",
              "    </tr>\n",
              "    <tr>\n",
              "      <th>1</th>\n",
              "      <td>Travis Scott</td>\n",
              "      <td>HIGHEST IN THE ROOM</td>\n",
              "      <td>3eekarcy7kvN4yt5ZFzltW</td>\n",
              "      <td>98</td>\n",
              "    </tr>\n",
              "    <tr>\n",
              "      <th>2</th>\n",
              "      <td>Juice WRLD</td>\n",
              "      <td>Bandit (with YoungBoy Never Broke Again)</td>\n",
              "      <td>6Gg1gjgKi2AK4e0qzsR7sd</td>\n",
              "      <td>93</td>\n",
              "    </tr>\n",
              "    <tr>\n",
              "      <th>3</th>\n",
              "      <td>Arizona Zervas</td>\n",
              "      <td>ROXANNE</td>\n",
              "      <td>696DnlkuDOXcMAnKlTgXXK</td>\n",
              "      <td>97</td>\n",
              "    </tr>\n",
              "    <tr>\n",
              "      <th>4</th>\n",
              "      <td>Selena Gomez</td>\n",
              "      <td>Lose You To Love Me</td>\n",
              "      <td>1HfMVBKM75vxSfsQ5VefZ5</td>\n",
              "      <td>98</td>\n",
              "    </tr>\n",
              "  </tbody>\n",
              "</table>\n",
              "</div>"
            ],
            "text/plain": [
              "      artist_name  ... popularity\n",
              "0     Post Malone  ...         99\n",
              "1    Travis Scott  ...         98\n",
              "2      Juice WRLD  ...         93\n",
              "3  Arizona Zervas  ...         97\n",
              "4    Selena Gomez  ...         98\n",
              "\n",
              "[5 rows x 4 columns]"
            ]
          },
          "metadata": {
            "tags": []
          },
          "execution_count": 70
        }
      ]
    },
    {
      "cell_type": "code",
      "metadata": {
        "id": "Es2cRNaKtrYc",
        "colab_type": "code",
        "colab": {
          "base_uri": "https://localhost:8080/",
          "height": 167
        },
        "outputId": "aaad3d0f-be47-48aa-d1d3-402dad075da9"
      },
      "source": [
        "# info on the dataset\n",
        "df_tracks.info()"
      ],
      "execution_count": 71,
      "outputs": [
        {
          "output_type": "stream",
          "text": [
            "<class 'pandas.core.frame.DataFrame'>\n",
            "RangeIndex: 10000 entries, 0 to 9999\n",
            "Data columns (total 4 columns):\n",
            "artist_name    10000 non-null object\n",
            "track_name     10000 non-null object\n",
            "track_id       10000 non-null object\n",
            "popularity     10000 non-null int64\n",
            "dtypes: int64(1), object(3)\n",
            "memory usage: 312.6+ KB\n"
          ],
          "name": "stdout"
        }
      ]
    },
    {
      "cell_type": "code",
      "metadata": {
        "id": "6eRXBcDexJDU",
        "colab_type": "code",
        "colab": {
          "base_uri": "https://localhost:8080/",
          "height": 33
        },
        "outputId": "ca432d51-142c-4141-9d16-37833cdd7591"
      },
      "source": [
        "# group the entries by artist_name and track_name and check for duplicates\n",
        "\n",
        "grouped = df_tracks.groupby(['artist_name','track_name'], as_index=True).size()\n",
        "grouped[grouped > 1].count()"
      ],
      "execution_count": 72,
      "outputs": [
        {
          "output_type": "execute_result",
          "data": {
            "text/plain": [
              "528"
            ]
          },
          "metadata": {
            "tags": []
          },
          "execution_count": 72
        }
      ]
    },
    {
      "cell_type": "code",
      "metadata": {
        "id": "JSQJPBE5BzOh",
        "colab_type": "code",
        "colab": {}
      },
      "source": [
        "# dropping duplicates\n",
        "df_tracks.drop_duplicates(subset=['artist_name','track_name'], inplace=True)"
      ],
      "execution_count": 0,
      "outputs": []
    },
    {
      "cell_type": "code",
      "metadata": {
        "id": "JurnBK4FB3R7",
        "colab_type": "code",
        "colab": {
          "base_uri": "https://localhost:8080/",
          "height": 33
        },
        "outputId": "ed6836bc-d5a7-4d38-fade-819adeeb6d6a"
      },
      "source": [
        "# doing the same grouping as before to verify the solution\n",
        "grouped_after_dropping = df_tracks.groupby(['artist_name','track_name'], as_index=True).size()\n",
        "grouped_after_dropping[grouped_after_dropping > 1].count()"
      ],
      "execution_count": 74,
      "outputs": [
        {
          "output_type": "execute_result",
          "data": {
            "text/plain": [
              "0"
            ]
          },
          "metadata": {
            "tags": []
          },
          "execution_count": 74
        }
      ]
    },
    {
      "cell_type": "code",
      "metadata": {
        "id": "xzojGTupB6F1",
        "colab_type": "code",
        "colab": {
          "base_uri": "https://localhost:8080/",
          "height": 100
        },
        "outputId": "7c7f5d64-33db-4103-b93a-7638327032f1"
      },
      "source": [
        "# dropping duplicates\n",
        "df_tracks[df_tracks.duplicated(subset=['artist_name','track_name'],keep=False)].count()"
      ],
      "execution_count": 75,
      "outputs": [
        {
          "output_type": "execute_result",
          "data": {
            "text/plain": [
              "artist_name    0\n",
              "track_name     0\n",
              "track_id       0\n",
              "popularity     0\n",
              "dtype: int64"
            ]
          },
          "metadata": {
            "tags": []
          },
          "execution_count": 75
        }
      ]
    },
    {
      "cell_type": "code",
      "metadata": {
        "id": "AgFu-WnOB8ve",
        "colab_type": "code",
        "colab": {
          "base_uri": "https://localhost:8080/",
          "height": 33
        },
        "outputId": "a0a272e2-bd09-410c-f3ba-119c689d5201"
      },
      "source": [
        "# checking the shape of the dataframe\n",
        "df_tracks.shape"
      ],
      "execution_count": 76,
      "outputs": [
        {
          "output_type": "execute_result",
          "data": {
            "text/plain": [
              "(9349, 4)"
            ]
          },
          "metadata": {
            "tags": []
          },
          "execution_count": 76
        }
      ]
    },
    {
      "cell_type": "code",
      "metadata": {
        "id": "CyOG4rbaB_Fq",
        "colab_type": "code",
        "colab": {
          "base_uri": "https://localhost:8080/",
          "height": 50
        },
        "outputId": "38f87a0b-1b5a-41a6-c69c-fabf9f113930"
      },
      "source": [
        "# again measuring the time\n",
        "start = timeit.default_timer()\n",
        "\n",
        "# empty list, batchsize and the counter for None results\n",
        "rows = []\n",
        "batchsize = 100\n",
        "None_counter = 0\n",
        "\n",
        "for i in range(0,len(df_tracks['track_id']),batchsize):\n",
        "    batch = df_tracks['track_id'][i:i+batchsize]\n",
        "    feature_results = sp.audio_features(batch)\n",
        "    for i, t in enumerate(feature_results):\n",
        "        if t == None:\n",
        "            None_counter = None_counter + 1\n",
        "        else:\n",
        "            rows.append(t)\n",
        "            \n",
        "print('Number of tracks where no audio features were available:',None_counter)\n",
        "\n",
        "stop = timeit.default_timer()\n",
        "print ('Time to run this code (in seconds):',stop - start)"
      ],
      "execution_count": 77,
      "outputs": [
        {
          "output_type": "stream",
          "text": [
            "Number of tracks where no audio features were available: 29\n",
            "Time to run this code (in seconds): 6.935885976999998\n"
          ],
          "name": "stdout"
        }
      ]
    },
    {
      "cell_type": "code",
      "metadata": {
        "id": "jfjSDCiaCE3f",
        "colab_type": "code",
        "colab": {
          "base_uri": "https://localhost:8080/",
          "height": 33
        },
        "outputId": "6c2e4ef6-570d-45e7-8229-3ac480e1530c"
      },
      "source": [
        "# checking the results\n",
        "print('number of elements in the track_id list:', len(rows))"
      ],
      "execution_count": 78,
      "outputs": [
        {
          "output_type": "stream",
          "text": [
            "number of elements in the track_id list: 9320\n"
          ],
          "name": "stdout"
        }
      ]
    },
    {
      "cell_type": "code",
      "metadata": {
        "id": "fPz8Ey7pCKdp",
        "colab_type": "code",
        "colab": {
          "base_uri": "https://localhost:8080/",
          "height": 317
        },
        "outputId": "657c7e50-8112-461a-a4ed-4b34bdaab104"
      },
      "source": [
        "# putting the data in a dataframe\n",
        "df_audio_features = pd.DataFrame.from_dict(rows,orient='columns')\n",
        "print(\"Shape of the dataset:\", df_audio_features.shape)\n",
        "df_audio_features.head()"
      ],
      "execution_count": 79,
      "outputs": [
        {
          "output_type": "stream",
          "text": [
            "Shape of the dataset: (9320, 18)\n"
          ],
          "name": "stdout"
        },
        {
          "output_type": "execute_result",
          "data": {
            "text/html": [
              "<div>\n",
              "<style scoped>\n",
              "    .dataframe tbody tr th:only-of-type {\n",
              "        vertical-align: middle;\n",
              "    }\n",
              "\n",
              "    .dataframe tbody tr th {\n",
              "        vertical-align: top;\n",
              "    }\n",
              "\n",
              "    .dataframe thead th {\n",
              "        text-align: right;\n",
              "    }\n",
              "</style>\n",
              "<table border=\"1\" class=\"dataframe\">\n",
              "  <thead>\n",
              "    <tr style=\"text-align: right;\">\n",
              "      <th></th>\n",
              "      <th>danceability</th>\n",
              "      <th>energy</th>\n",
              "      <th>key</th>\n",
              "      <th>loudness</th>\n",
              "      <th>mode</th>\n",
              "      <th>speechiness</th>\n",
              "      <th>acousticness</th>\n",
              "      <th>instrumentalness</th>\n",
              "      <th>liveness</th>\n",
              "      <th>valence</th>\n",
              "      <th>tempo</th>\n",
              "      <th>type</th>\n",
              "      <th>id</th>\n",
              "      <th>uri</th>\n",
              "      <th>track_href</th>\n",
              "      <th>analysis_url</th>\n",
              "      <th>duration_ms</th>\n",
              "      <th>time_signature</th>\n",
              "    </tr>\n",
              "  </thead>\n",
              "  <tbody>\n",
              "    <tr>\n",
              "      <th>0</th>\n",
              "      <td>0.695</td>\n",
              "      <td>0.762</td>\n",
              "      <td>0</td>\n",
              "      <td>-3.497</td>\n",
              "      <td>1</td>\n",
              "      <td>0.0395</td>\n",
              "      <td>0.1920</td>\n",
              "      <td>0.002440</td>\n",
              "      <td>0.0863</td>\n",
              "      <td>0.5530</td>\n",
              "      <td>120.042</td>\n",
              "      <td>audio_features</td>\n",
              "      <td>21jGcNKet2qwijlDFuPiPb</td>\n",
              "      <td>spotify:track:21jGcNKet2qwijlDFuPiPb</td>\n",
              "      <td>https://api.spotify.com/v1/tracks/21jGcNKet2qw...</td>\n",
              "      <td>https://api.spotify.com/v1/audio-analysis/21jG...</td>\n",
              "      <td>215280</td>\n",
              "      <td>4</td>\n",
              "    </tr>\n",
              "    <tr>\n",
              "      <th>1</th>\n",
              "      <td>0.598</td>\n",
              "      <td>0.427</td>\n",
              "      <td>7</td>\n",
              "      <td>-8.764</td>\n",
              "      <td>0</td>\n",
              "      <td>0.0317</td>\n",
              "      <td>0.0546</td>\n",
              "      <td>0.000006</td>\n",
              "      <td>0.2100</td>\n",
              "      <td>0.0605</td>\n",
              "      <td>76.469</td>\n",
              "      <td>audio_features</td>\n",
              "      <td>3eekarcy7kvN4yt5ZFzltW</td>\n",
              "      <td>spotify:track:3eekarcy7kvN4yt5ZFzltW</td>\n",
              "      <td>https://api.spotify.com/v1/tracks/3eekarcy7kvN...</td>\n",
              "      <td>https://api.spotify.com/v1/audio-analysis/3eek...</td>\n",
              "      <td>175721</td>\n",
              "      <td>4</td>\n",
              "    </tr>\n",
              "    <tr>\n",
              "      <th>2</th>\n",
              "      <td>0.474</td>\n",
              "      <td>0.631</td>\n",
              "      <td>5</td>\n",
              "      <td>-5.884</td>\n",
              "      <td>0</td>\n",
              "      <td>0.3430</td>\n",
              "      <td>0.0687</td>\n",
              "      <td>0.000000</td>\n",
              "      <td>0.1320</td>\n",
              "      <td>0.4250</td>\n",
              "      <td>180.051</td>\n",
              "      <td>audio_features</td>\n",
              "      <td>6Gg1gjgKi2AK4e0qzsR7sd</td>\n",
              "      <td>spotify:track:6Gg1gjgKi2AK4e0qzsR7sd</td>\n",
              "      <td>https://api.spotify.com/v1/tracks/6Gg1gjgKi2AK...</td>\n",
              "      <td>https://api.spotify.com/v1/audio-analysis/6Gg1...</td>\n",
              "      <td>189323</td>\n",
              "      <td>4</td>\n",
              "    </tr>\n",
              "    <tr>\n",
              "      <th>3</th>\n",
              "      <td>0.621</td>\n",
              "      <td>0.601</td>\n",
              "      <td>6</td>\n",
              "      <td>-5.616</td>\n",
              "      <td>0</td>\n",
              "      <td>0.1480</td>\n",
              "      <td>0.0522</td>\n",
              "      <td>0.000000</td>\n",
              "      <td>0.4600</td>\n",
              "      <td>0.4570</td>\n",
              "      <td>116.735</td>\n",
              "      <td>audio_features</td>\n",
              "      <td>696DnlkuDOXcMAnKlTgXXK</td>\n",
              "      <td>spotify:track:696DnlkuDOXcMAnKlTgXXK</td>\n",
              "      <td>https://api.spotify.com/v1/tracks/696DnlkuDOXc...</td>\n",
              "      <td>https://api.spotify.com/v1/audio-analysis/696D...</td>\n",
              "      <td>163636</td>\n",
              "      <td>5</td>\n",
              "    </tr>\n",
              "    <tr>\n",
              "      <th>4</th>\n",
              "      <td>0.505</td>\n",
              "      <td>0.340</td>\n",
              "      <td>4</td>\n",
              "      <td>-9.005</td>\n",
              "      <td>1</td>\n",
              "      <td>0.0438</td>\n",
              "      <td>0.5760</td>\n",
              "      <td>0.000000</td>\n",
              "      <td>0.2100</td>\n",
              "      <td>0.0916</td>\n",
              "      <td>101.993</td>\n",
              "      <td>audio_features</td>\n",
              "      <td>1HfMVBKM75vxSfsQ5VefZ5</td>\n",
              "      <td>spotify:track:1HfMVBKM75vxSfsQ5VefZ5</td>\n",
              "      <td>https://api.spotify.com/v1/tracks/1HfMVBKM75vx...</td>\n",
              "      <td>https://api.spotify.com/v1/audio-analysis/1HfM...</td>\n",
              "      <td>206459</td>\n",
              "      <td>4</td>\n",
              "    </tr>\n",
              "  </tbody>\n",
              "</table>\n",
              "</div>"
            ],
            "text/plain": [
              "   danceability  energy  ...  duration_ms  time_signature\n",
              "0         0.695   0.762  ...       215280               4\n",
              "1         0.598   0.427  ...       175721               4\n",
              "2         0.474   0.631  ...       189323               4\n",
              "3         0.621   0.601  ...       163636               5\n",
              "4         0.505   0.340  ...       206459               4\n",
              "\n",
              "[5 rows x 18 columns]"
            ]
          },
          "metadata": {
            "tags": []
          },
          "execution_count": 79
        }
      ]
    },
    {
      "cell_type": "code",
      "metadata": {
        "id": "1esJeBzMCNRj",
        "colab_type": "code",
        "colab": {
          "base_uri": "https://localhost:8080/",
          "height": 400
        },
        "outputId": "86871ddf-d264-44e5-ef47-3f636ee067ce"
      },
      "source": [
        "# info on the dataframe\n",
        "df_audio_features.info()"
      ],
      "execution_count": 80,
      "outputs": [
        {
          "output_type": "stream",
          "text": [
            "<class 'pandas.core.frame.DataFrame'>\n",
            "RangeIndex: 9320 entries, 0 to 9319\n",
            "Data columns (total 18 columns):\n",
            "danceability        9320 non-null float64\n",
            "energy              9320 non-null float64\n",
            "key                 9320 non-null int64\n",
            "loudness            9320 non-null float64\n",
            "mode                9320 non-null int64\n",
            "speechiness         9320 non-null float64\n",
            "acousticness        9320 non-null float64\n",
            "instrumentalness    9320 non-null float64\n",
            "liveness            9320 non-null float64\n",
            "valence             9320 non-null float64\n",
            "tempo               9320 non-null float64\n",
            "type                9320 non-null object\n",
            "id                  9320 non-null object\n",
            "uri                 9320 non-null object\n",
            "track_href          9320 non-null object\n",
            "analysis_url        9320 non-null object\n",
            "duration_ms         9320 non-null int64\n",
            "time_signature      9320 non-null int64\n",
            "dtypes: float64(9), int64(4), object(5)\n",
            "memory usage: 1.3+ MB\n"
          ],
          "name": "stdout"
        }
      ]
    },
    {
      "cell_type": "code",
      "metadata": {
        "id": "q-5VL2jgCR9B",
        "colab_type": "code",
        "colab": {
          "base_uri": "https://localhost:8080/",
          "height": 33
        },
        "outputId": "269ecc61-faa8-4797-9d88-4957d240dda6"
      },
      "source": [
        "# dropping unnecessary columns\n",
        "columns_to_drop = ['analysis_url','track_href','type','uri']\n",
        "df_audio_features.drop(columns_to_drop, axis=1,inplace=True)\n",
        "\n",
        "df_audio_features.rename(columns={'id': 'track_id'}, inplace=True)\n",
        "\n",
        "df_audio_features.shape"
      ],
      "execution_count": 81,
      "outputs": [
        {
          "output_type": "execute_result",
          "data": {
            "text/plain": [
              "(9320, 14)"
            ]
          },
          "metadata": {
            "tags": []
          },
          "execution_count": 81
        }
      ]
    },
    {
      "cell_type": "code",
      "metadata": {
        "id": "xRCNJksiCV2h",
        "colab_type": "code",
        "colab": {
          "base_uri": "https://localhost:8080/",
          "height": 367
        },
        "outputId": "416ee5ad-12f2-4820-9577-736a2b0849c8"
      },
      "source": [
        "# merge both dataframes\n",
        "# the 'inner' method will make sure that we only keep track IDs present in both datasets\n",
        "df = pd.merge(df_tracks,df_audio_features,on='track_id',how='inner')\n",
        "print(\"Shape of the dataset:\", df_audio_features.shape)\n",
        "df.head()"
      ],
      "execution_count": 82,
      "outputs": [
        {
          "output_type": "stream",
          "text": [
            "Shape of the dataset: (9320, 14)\n"
          ],
          "name": "stdout"
        },
        {
          "output_type": "execute_result",
          "data": {
            "text/html": [
              "<div>\n",
              "<style scoped>\n",
              "    .dataframe tbody tr th:only-of-type {\n",
              "        vertical-align: middle;\n",
              "    }\n",
              "\n",
              "    .dataframe tbody tr th {\n",
              "        vertical-align: top;\n",
              "    }\n",
              "\n",
              "    .dataframe thead th {\n",
              "        text-align: right;\n",
              "    }\n",
              "</style>\n",
              "<table border=\"1\" class=\"dataframe\">\n",
              "  <thead>\n",
              "    <tr style=\"text-align: right;\">\n",
              "      <th></th>\n",
              "      <th>artist_name</th>\n",
              "      <th>track_name</th>\n",
              "      <th>track_id</th>\n",
              "      <th>popularity</th>\n",
              "      <th>danceability</th>\n",
              "      <th>energy</th>\n",
              "      <th>key</th>\n",
              "      <th>loudness</th>\n",
              "      <th>mode</th>\n",
              "      <th>speechiness</th>\n",
              "      <th>acousticness</th>\n",
              "      <th>instrumentalness</th>\n",
              "      <th>liveness</th>\n",
              "      <th>valence</th>\n",
              "      <th>tempo</th>\n",
              "      <th>duration_ms</th>\n",
              "      <th>time_signature</th>\n",
              "    </tr>\n",
              "  </thead>\n",
              "  <tbody>\n",
              "    <tr>\n",
              "      <th>0</th>\n",
              "      <td>Post Malone</td>\n",
              "      <td>Circles</td>\n",
              "      <td>21jGcNKet2qwijlDFuPiPb</td>\n",
              "      <td>99</td>\n",
              "      <td>0.695</td>\n",
              "      <td>0.762</td>\n",
              "      <td>0</td>\n",
              "      <td>-3.497</td>\n",
              "      <td>1</td>\n",
              "      <td>0.0395</td>\n",
              "      <td>0.1920</td>\n",
              "      <td>0.002440</td>\n",
              "      <td>0.0863</td>\n",
              "      <td>0.5530</td>\n",
              "      <td>120.042</td>\n",
              "      <td>215280</td>\n",
              "      <td>4</td>\n",
              "    </tr>\n",
              "    <tr>\n",
              "      <th>1</th>\n",
              "      <td>Travis Scott</td>\n",
              "      <td>HIGHEST IN THE ROOM</td>\n",
              "      <td>3eekarcy7kvN4yt5ZFzltW</td>\n",
              "      <td>98</td>\n",
              "      <td>0.598</td>\n",
              "      <td>0.427</td>\n",
              "      <td>7</td>\n",
              "      <td>-8.764</td>\n",
              "      <td>0</td>\n",
              "      <td>0.0317</td>\n",
              "      <td>0.0546</td>\n",
              "      <td>0.000006</td>\n",
              "      <td>0.2100</td>\n",
              "      <td>0.0605</td>\n",
              "      <td>76.469</td>\n",
              "      <td>175721</td>\n",
              "      <td>4</td>\n",
              "    </tr>\n",
              "    <tr>\n",
              "      <th>2</th>\n",
              "      <td>Juice WRLD</td>\n",
              "      <td>Bandit (with YoungBoy Never Broke Again)</td>\n",
              "      <td>6Gg1gjgKi2AK4e0qzsR7sd</td>\n",
              "      <td>93</td>\n",
              "      <td>0.474</td>\n",
              "      <td>0.631</td>\n",
              "      <td>5</td>\n",
              "      <td>-5.884</td>\n",
              "      <td>0</td>\n",
              "      <td>0.3430</td>\n",
              "      <td>0.0687</td>\n",
              "      <td>0.000000</td>\n",
              "      <td>0.1320</td>\n",
              "      <td>0.4250</td>\n",
              "      <td>180.051</td>\n",
              "      <td>189323</td>\n",
              "      <td>4</td>\n",
              "    </tr>\n",
              "    <tr>\n",
              "      <th>3</th>\n",
              "      <td>Arizona Zervas</td>\n",
              "      <td>ROXANNE</td>\n",
              "      <td>696DnlkuDOXcMAnKlTgXXK</td>\n",
              "      <td>97</td>\n",
              "      <td>0.621</td>\n",
              "      <td>0.601</td>\n",
              "      <td>6</td>\n",
              "      <td>-5.616</td>\n",
              "      <td>0</td>\n",
              "      <td>0.1480</td>\n",
              "      <td>0.0522</td>\n",
              "      <td>0.000000</td>\n",
              "      <td>0.4600</td>\n",
              "      <td>0.4570</td>\n",
              "      <td>116.735</td>\n",
              "      <td>163636</td>\n",
              "      <td>5</td>\n",
              "    </tr>\n",
              "    <tr>\n",
              "      <th>4</th>\n",
              "      <td>Selena Gomez</td>\n",
              "      <td>Lose You To Love Me</td>\n",
              "      <td>1HfMVBKM75vxSfsQ5VefZ5</td>\n",
              "      <td>98</td>\n",
              "      <td>0.505</td>\n",
              "      <td>0.340</td>\n",
              "      <td>4</td>\n",
              "      <td>-9.005</td>\n",
              "      <td>1</td>\n",
              "      <td>0.0438</td>\n",
              "      <td>0.5760</td>\n",
              "      <td>0.000000</td>\n",
              "      <td>0.2100</td>\n",
              "      <td>0.0916</td>\n",
              "      <td>101.993</td>\n",
              "      <td>206459</td>\n",
              "      <td>4</td>\n",
              "    </tr>\n",
              "  </tbody>\n",
              "</table>\n",
              "</div>"
            ],
            "text/plain": [
              "      artist_name  ... time_signature\n",
              "0     Post Malone  ...              4\n",
              "1    Travis Scott  ...              4\n",
              "2      Juice WRLD  ...              4\n",
              "3  Arizona Zervas  ...              5\n",
              "4    Selena Gomez  ...              4\n",
              "\n",
              "[5 rows x 17 columns]"
            ]
          },
          "metadata": {
            "tags": []
          },
          "execution_count": 82
        }
      ]
    },
    {
      "cell_type": "code",
      "metadata": {
        "id": "tkOgMFGyCbkM",
        "colab_type": "code",
        "colab": {
          "base_uri": "https://localhost:8080/",
          "height": 383
        },
        "outputId": "6d47102e-0ee1-486a-a3ba-d345879146ca"
      },
      "source": [
        "# info on the merge dataframe\n",
        "df.info()"
      ],
      "execution_count": 83,
      "outputs": [
        {
          "output_type": "stream",
          "text": [
            "<class 'pandas.core.frame.DataFrame'>\n",
            "Int64Index: 9320 entries, 0 to 9319\n",
            "Data columns (total 17 columns):\n",
            "artist_name         9320 non-null object\n",
            "track_name          9320 non-null object\n",
            "track_id            9320 non-null object\n",
            "popularity          9320 non-null int64\n",
            "danceability        9320 non-null float64\n",
            "energy              9320 non-null float64\n",
            "key                 9320 non-null int64\n",
            "loudness            9320 non-null float64\n",
            "mode                9320 non-null int64\n",
            "speechiness         9320 non-null float64\n",
            "acousticness        9320 non-null float64\n",
            "instrumentalness    9320 non-null float64\n",
            "liveness            9320 non-null float64\n",
            "valence             9320 non-null float64\n",
            "tempo               9320 non-null float64\n",
            "duration_ms         9320 non-null int64\n",
            "time_signature      9320 non-null int64\n",
            "dtypes: float64(9), int64(5), object(3)\n",
            "memory usage: 1.3+ MB\n"
          ],
          "name": "stdout"
        }
      ]
    },
    {
      "cell_type": "code",
      "metadata": {
        "id": "vEOtpg2KCgjG",
        "colab_type": "code",
        "colab": {
          "base_uri": "https://localhost:8080/",
          "height": 47
        },
        "outputId": "1252b8a0-24fc-49b1-f0a0-d204a6a73311"
      },
      "source": [
        "df[df.duplicated(subset=['artist_name','track_name'],keep=False)]"
      ],
      "execution_count": 84,
      "outputs": [
        {
          "output_type": "execute_result",
          "data": {
            "text/html": [
              "<div>\n",
              "<style scoped>\n",
              "    .dataframe tbody tr th:only-of-type {\n",
              "        vertical-align: middle;\n",
              "    }\n",
              "\n",
              "    .dataframe tbody tr th {\n",
              "        vertical-align: top;\n",
              "    }\n",
              "\n",
              "    .dataframe thead th {\n",
              "        text-align: right;\n",
              "    }\n",
              "</style>\n",
              "<table border=\"1\" class=\"dataframe\">\n",
              "  <thead>\n",
              "    <tr style=\"text-align: right;\">\n",
              "      <th></th>\n",
              "      <th>artist_name</th>\n",
              "      <th>track_name</th>\n",
              "      <th>track_id</th>\n",
              "      <th>popularity</th>\n",
              "      <th>danceability</th>\n",
              "      <th>energy</th>\n",
              "      <th>key</th>\n",
              "      <th>loudness</th>\n",
              "      <th>mode</th>\n",
              "      <th>speechiness</th>\n",
              "      <th>acousticness</th>\n",
              "      <th>instrumentalness</th>\n",
              "      <th>liveness</th>\n",
              "      <th>valence</th>\n",
              "      <th>tempo</th>\n",
              "      <th>duration_ms</th>\n",
              "      <th>time_signature</th>\n",
              "    </tr>\n",
              "  </thead>\n",
              "  <tbody>\n",
              "  </tbody>\n",
              "</table>\n",
              "</div>"
            ],
            "text/plain": [
              "Empty DataFrame\n",
              "Columns: [artist_name, track_name, track_id, popularity, danceability, energy, key, loudness, mode, speechiness, acousticness, instrumentalness, liveness, valence, tempo, duration_ms, time_signature]\n",
              "Index: []"
            ]
          },
          "metadata": {
            "tags": []
          },
          "execution_count": 84
        }
      ]
    },
    {
      "cell_type": "code",
      "metadata": {
        "id": "xr_0tE3QCj-O",
        "colab_type": "code",
        "colab": {}
      },
      "source": [
        "# creating a csv file\n",
        "df.to_csv('spotify_data.csv')"
      ],
      "execution_count": 0,
      "outputs": []
    },
    {
      "cell_type": "code",
      "metadata": {
        "id": "M3lO_HXXCpLM",
        "colab_type": "code",
        "colab": {}
      },
      "source": [
        "from google.colab import files\n"
      ],
      "execution_count": 0,
      "outputs": []
    },
    {
      "cell_type": "code",
      "metadata": {
        "id": "4GxXayUcDBqa",
        "colab_type": "code",
        "colab": {}
      },
      "source": [
        "# downloading the csv file\n",
        "files.download(\"spotify_data.csv\")"
      ],
      "execution_count": 0,
      "outputs": []
    }
  ]
}